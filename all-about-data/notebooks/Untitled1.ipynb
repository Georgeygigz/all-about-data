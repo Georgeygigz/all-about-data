{
 "cells": [
  {
   "cell_type": "code",
   "execution_count": 13,
   "metadata": {},
   "outputs": [],
   "source": [
    "import sys\n",
    "if sys.implementation.name != 'micropython':\n",
    "\n",
    "    class FakePin:\n",
    "        def __init__(self, number):\n",
    "            self._number = number\n",
    "            self._value = False\n",
    "            \n",
    "        def value(self, value=None):\n",
    "            \"\"\"\n",
    "            If called with no argument, returns the value, if called with argument, \n",
    "            sets the value\n",
    "            \"\"\"\n",
    "            if value is None:\n",
    "                return self._value\n",
    "                import pdb\n",
    "                pdb.set_trace()\n",
    "            elif isinstance(value, int):\n",
    "                self._value = bool(value)\n",
    "            elif isinstance(value, str):\n",
    "                if value == 'on':\n",
    "                    self._value = True\n",
    "                elif value == 'off':\n",
    "                    self._value = False\n",
    "                else:\n",
    "                    raise ValueError(value)\n",
    "            elif isinstance(value, bool):\n",
    "                self._value = value\n",
    "            else:\n",
    "                raise ValueError(\"Cannot set pin to %s\" % value)\n",
    "            self.show_value()\n",
    "            \n",
    "        def show_value(self):\n",
    "            print(\n",
    "                '⚫️' if not self._value else '⚪️', \n",
    "                # No new line\n",
    "                end=''\n",
    "            )\n",
    "    # Create some pins\n",
    "    pin12 = FakePin(0)\n",
    "    pin14 = FakePin(1)\n",
    "    pin16 = FakePin(2)"
   ]
  },
  {
   "cell_type": "code",
   "execution_count": 12,
   "metadata": {},
   "outputs": [
    {
     "name": "stdout",
     "output_type": "stream",
     "text": [
      "⚫️⚫️⚫️\n",
      "\n",
      "⚪️⚫️⚫️\n",
      "\n",
      "⚫️⚪️⚫️\n",
      "\n",
      "⚪️⚪️⚫️\n",
      "\n",
      "⚫️⚫️⚪️\n",
      "\n",
      "⚪️⚫️⚪️\n",
      "\n",
      "⚫️⚪️⚪️\n",
      "\n",
      "⚪️⚪️⚪️\n",
      "\n"
     ]
    }
   ],
   "source": [
    "def dec2bin(dec):\n",
    "    # First bit\n",
    "    pin12.value(bool(dec & 0b0001))\n",
    "    pin14.value(bool(dec & 0b0010))\n",
    "    pin16.value(bool(dec & 0b0100))\n",
    "    \n",
    "for i in range(8):\n",
    "    dec2bin(i)\n",
    "    print('\\n')"
   ]
  },
  {
   "cell_type": "code",
   "execution_count": null,
   "metadata": {},
   "outputs": [],
   "source": []
  },
  {
   "cell_type": "code",
   "execution_count": null,
   "metadata": {},
   "outputs": [],
   "source": []
  }
 ],
 "metadata": {
  "kernelspec": {
   "display_name": "Python 3",
   "language": "python",
   "name": "python3"
  },
  "language_info": {
   "codemirror_mode": {
    "name": "ipython",
    "version": 3
   },
   "file_extension": ".py",
   "mimetype": "text/x-python",
   "name": "python",
   "nbconvert_exporter": "python",
   "pygments_lexer": "ipython3",
   "version": "3.7.3"
  }
 },
 "nbformat": 4,
 "nbformat_minor": 2
}
