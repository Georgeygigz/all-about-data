{
 "cells": [
  {
   "cell_type": "code",
   "execution_count": 1,
   "metadata": {},
   "outputs": [],
   "source": [
    "#import sqlite package\n",
    "import sqlite3"
   ]
  },
  {
   "cell_type": "code",
   "execution_count": 2,
   "metadata": {},
   "outputs": [],
   "source": [
    "#create connection\n",
    "connection=sqlite3.connect(\"classroomDB.db\")\n",
    "connection.close()"
   ]
  },
  {
   "cell_type": "code",
   "execution_count": 4,
   "metadata": {},
   "outputs": [],
   "source": [
    "connection=sqlite3.connect(\"classroomDB.db\")\n",
    "cursor= connection.cursor()\n",
    "create_table = \"\"\"\n",
    "                CREATE TABLE class_room(\n",
    "                student_id INTEGER PRIMARY KEY,\n",
    "                name VARCHAR(20),\n",
    "                gender CHAR(1),\n",
    "                physics_marks INTEGER,\n",
    "                chemist_marks INTEGER,\n",
    "                math_marks INTEGER\n",
    "                );\"\"\"\n",
    "cursor.execute(create_table)\n",
    "#close connection\n",
    "connection.commit()\n",
    "#close connection\n",
    "connection.close()"
   ]
  },
  {
   "cell_type": "code",
   "execution_count": 5,
   "metadata": {},
   "outputs": [],
   "source": [
    "#insert data\n",
    "class_room=[(1,\"james\",\"M\",20,49,65),\n",
    "            (2,\"Mary\",\"F\",20,49,65),\n",
    "            (3,\"George\",\"M\",20,49,65),\n",
    "            (4,\"John\",\"M\",20,49,65)\n",
    "]\n",
    "#connect to the database\n",
    "connection=sqlite3.connect(\"classroomDB.db\")\n",
    "\n",
    "cursor= connection.cursor()\n",
    "\n",
    "for student in class_room:\n",
    "    insert_query=\"\"\"\n",
    "                 INSERT INTO class_room\n",
    "                 (student_id,name,gender,physics_marks,chemist_marks,math_marks)\n",
    "                 VALUES\n",
    "                 ({0},\"{1}\",\"{2}\",{3},{4},{5})\"\"\".format(student[0],student[1],student[2],\n",
    "                                                         student[3],student[4],student[5])\n",
    "    cursor.execute(insert_query)\n",
    "\n",
    "connection.commit()\n",
    "#close connection\n",
    "connection.close()  "
   ]
  },
  {
   "cell_type": "code",
   "execution_count": 7,
   "metadata": {},
   "outputs": [
    {
     "name": "stdout",
     "output_type": "stream",
     "text": [
      "(1, 'james', 'M', 20, 49, 65)\n",
      "(2, 'Mary', 'F', 20, 49, 65)\n",
      "(3, 'George', 'M', 20, 49, 65)\n",
      "(4, 'John', 'M', 20, 49, 65)\n"
     ]
    }
   ],
   "source": [
    "connection=sqlite3.connect(\"classroomDB.db\")\n",
    "cursor= connection.cursor()\n",
    "\n",
    "query=\"\"\"SELECT * FROM class_room\"\"\"\n",
    "\n",
    "cursor.execute(query)\n",
    "result=cursor.fetchall()\n",
    "\n",
    "for row in result:\n",
    "    print(row)\n",
    "connection.close()  "
   ]
  },
  {
   "cell_type": "code",
   "execution_count": null,
   "metadata": {},
   "outputs": [],
   "source": []
  }
 ],
 "metadata": {
  "kernelspec": {
   "display_name": "Python 3",
   "language": "python",
   "name": "python3"
  },
  "language_info": {
   "codemirror_mode": {
    "name": "ipython",
    "version": 3
   },
   "file_extension": ".py",
   "mimetype": "text/x-python",
   "name": "python",
   "nbconvert_exporter": "python",
   "pygments_lexer": "ipython3",
   "version": "3.7.3"
  }
 },
 "nbformat": 4,
 "nbformat_minor": 2
}
