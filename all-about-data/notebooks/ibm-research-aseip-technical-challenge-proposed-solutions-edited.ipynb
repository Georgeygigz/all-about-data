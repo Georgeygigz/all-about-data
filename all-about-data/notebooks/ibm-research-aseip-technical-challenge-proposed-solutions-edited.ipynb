{
 "cells": [
  {
   "cell_type": "markdown",
   "metadata": {},
   "source": [
    "## IBM Research Technical Challenge\n",
    "- This notebook and it's contents serves as my solution to the IBM Research | Africa Software Engineering Internship Program - Technical Challenge.\n",
    "- The tools used in used are open source\n",
    "\n",
    "### The Challenge\n",
    "1. Find on average the top seven (7) most travelled routes for a Sunday. Indicate the average of each and rank them in decreasing order.\n",
    "2. What is the probability that a passenger travelling from Kijauri will take a Shuttle if they depart before 0730 hours?\n",
    "3. The Sequence ‘MK’ appears in a payment reference. Based on the tri-gram distribution of characters in all the payment references, what is the most probable next character?\n",
    "4. When considering opening a new terminus in Kisii, should the terminus have mobile money capabilities? Why?"
   ]
  },
  {
   "cell_type": "markdown",
   "metadata": {},
   "source": []
  },
  {
   "cell_type": "markdown",
   "metadata": {},
   "source": [
    "### Why use python?\n",
    "- Python is a high level programming language, easier to use, and has rich libraries. It is also a production ready language, that is, you can run your model written in python in production\n",
    "\n",
    "### Why use jupyter notebooks?\n",
    "- They provide a powerful way to write and iterate code (Python or Julia or R or Scala or NodeJS) for data analysis.\n",
    "- They provide data scientists with a collaborative environment where they can proces, analyse, and visualise data in an iterative manner.\n",
    "\n",
    "### Why classify the problem as time series?\n",
    "- Because we are dealing with observations at specified time, hence we need to parse the dates for our data set"
   ]
  },
  {
   "cell_type": "markdown",
   "metadata": {},
   "source": []
  },
  {
   "cell_type": "markdown",
   "metadata": {},
   "source": [
    "#### import relevant libraries"
   ]
  },
  {
   "cell_type": "code",
   "execution_count": 1,
   "metadata": {},
   "outputs": [],
   "source": [
    "import pandas as pd\n",
    "import numpy as np\n",
    "import matplotlib.pyplot as plt"
   ]
  },
  {
   "cell_type": "code",
   "execution_count": 2,
   "metadata": {},
   "outputs": [],
   "source": [
    "data = pd.read_csv('train_revised.csv')"
   ]
  },
  {
   "cell_type": "code",
   "execution_count": 3,
   "metadata": {},
   "outputs": [
    {
     "data": {
      "text/html": [
       "<div>\n",
       "<style scoped>\n",
       "    .dataframe tbody tr th:only-of-type {\n",
       "        vertical-align: middle;\n",
       "    }\n",
       "\n",
       "    .dataframe tbody tr th {\n",
       "        vertical-align: top;\n",
       "    }\n",
       "\n",
       "    .dataframe thead th {\n",
       "        text-align: right;\n",
       "    }\n",
       "</style>\n",
       "<table border=\"1\" class=\"dataframe\">\n",
       "  <thead>\n",
       "    <tr style=\"text-align: right;\">\n",
       "      <th></th>\n",
       "      <th>ride_id</th>\n",
       "      <th>seat_number</th>\n",
       "      <th>payment_method</th>\n",
       "      <th>payment_receipt</th>\n",
       "      <th>travel_date</th>\n",
       "      <th>travel_time</th>\n",
       "      <th>travel_from</th>\n",
       "      <th>travel_to</th>\n",
       "      <th>car_type</th>\n",
       "      <th>max_capacity</th>\n",
       "    </tr>\n",
       "  </thead>\n",
       "  <tbody>\n",
       "    <tr>\n",
       "      <th>0</th>\n",
       "      <td>1442</td>\n",
       "      <td>15A</td>\n",
       "      <td>Mpesa</td>\n",
       "      <td>UZUEHCBUSO</td>\n",
       "      <td>17-10-17</td>\n",
       "      <td>7:15</td>\n",
       "      <td>Migori</td>\n",
       "      <td>Nairobi</td>\n",
       "      <td>Bus</td>\n",
       "      <td>49</td>\n",
       "    </tr>\n",
       "    <tr>\n",
       "      <th>1</th>\n",
       "      <td>5437</td>\n",
       "      <td>14A</td>\n",
       "      <td>Mpesa</td>\n",
       "      <td>TIHLBUSGTE</td>\n",
       "      <td>19-11-17</td>\n",
       "      <td>7:12</td>\n",
       "      <td>Migori</td>\n",
       "      <td>Nairobi</td>\n",
       "      <td>Bus</td>\n",
       "      <td>49</td>\n",
       "    </tr>\n",
       "    <tr>\n",
       "      <th>2</th>\n",
       "      <td>5710</td>\n",
       "      <td>8B</td>\n",
       "      <td>Mpesa</td>\n",
       "      <td>EQX8Q5G19O</td>\n",
       "      <td>26-11-17</td>\n",
       "      <td>7:05</td>\n",
       "      <td>Keroka</td>\n",
       "      <td>Nairobi</td>\n",
       "      <td>Bus</td>\n",
       "      <td>49</td>\n",
       "    </tr>\n",
       "    <tr>\n",
       "      <th>3</th>\n",
       "      <td>5777</td>\n",
       "      <td>19A</td>\n",
       "      <td>Mpesa</td>\n",
       "      <td>SGP18CL0ME</td>\n",
       "      <td>27-11-17</td>\n",
       "      <td>7:10</td>\n",
       "      <td>Homa Bay</td>\n",
       "      <td>Nairobi</td>\n",
       "      <td>Bus</td>\n",
       "      <td>49</td>\n",
       "    </tr>\n",
       "    <tr>\n",
       "      <th>4</th>\n",
       "      <td>5778</td>\n",
       "      <td>11A</td>\n",
       "      <td>Mpesa</td>\n",
       "      <td>BM97HFRGL9</td>\n",
       "      <td>27-11-17</td>\n",
       "      <td>7:12</td>\n",
       "      <td>Migori</td>\n",
       "      <td>Nairobi</td>\n",
       "      <td>Bus</td>\n",
       "      <td>49</td>\n",
       "    </tr>\n",
       "  </tbody>\n",
       "</table>\n",
       "</div>"
      ],
      "text/plain": [
       "   ride_id seat_number payment_method payment_receipt travel_date travel_time  \\\n",
       "0     1442         15A          Mpesa      UZUEHCBUSO    17-10-17        7:15   \n",
       "1     5437         14A          Mpesa      TIHLBUSGTE    19-11-17        7:12   \n",
       "2     5710          8B          Mpesa      EQX8Q5G19O    26-11-17        7:05   \n",
       "3     5777         19A          Mpesa      SGP18CL0ME    27-11-17        7:10   \n",
       "4     5778         11A          Mpesa      BM97HFRGL9    27-11-17        7:12   \n",
       "\n",
       "  travel_from travel_to car_type  max_capacity  \n",
       "0      Migori   Nairobi      Bus            49  \n",
       "1      Migori   Nairobi      Bus            49  \n",
       "2      Keroka   Nairobi      Bus            49  \n",
       "3    Homa Bay   Nairobi      Bus            49  \n",
       "4      Migori   Nairobi      Bus            49  "
      ]
     },
     "execution_count": 3,
     "metadata": {},
     "output_type": "execute_result"
    }
   ],
   "source": [
    "# have a peek of the data\n",
    "data.head()"
   ]
  },
  {
   "cell_type": "code",
   "execution_count": 4,
   "metadata": {},
   "outputs": [
    {
     "data": {
      "text/plain": [
       "(51645, 10)"
      ]
     },
     "execution_count": 4,
     "metadata": {},
     "output_type": "execute_result"
    }
   ],
   "source": [
    "data.shape"
   ]
  },
  {
   "cell_type": "code",
   "execution_count": 5,
   "metadata": {},
   "outputs": [
    {
     "data": {
      "text/plain": [
       "array(['Mpesa', 'Cash'], dtype=object)"
      ]
     },
     "execution_count": 5,
     "metadata": {},
     "output_type": "execute_result"
    }
   ],
   "source": [
    "data['payment_method'].unique()"
   ]
  },
  {
   "cell_type": "code",
   "execution_count": 6,
   "metadata": {},
   "outputs": [
    {
     "data": {
      "text/plain": [
       "array(['Bus', 'shuttle'], dtype=object)"
      ]
     },
     "execution_count": 6,
     "metadata": {},
     "output_type": "execute_result"
    }
   ],
   "source": [
    "data['car_type'].unique()"
   ]
  },
  {
   "cell_type": "code",
   "execution_count": 7,
   "metadata": {},
   "outputs": [
    {
     "data": {
      "text/plain": [
       "array(['Migori', 'Keroka', 'Homa Bay', 'Kisii', 'Keumbu', 'Rongo',\n",
       "       'Kijauri', 'Oyugis', 'Awendo', 'Sirare', 'Nyachenge', 'Kehancha',\n",
       "       'Kendu Bay', 'Sori', 'Rodi', 'Mbita', 'Ndhiwa'], dtype=object)"
      ]
     },
     "execution_count": 7,
     "metadata": {},
     "output_type": "execute_result"
    }
   ],
   "source": [
    "data['travel_from'].unique()"
   ]
  },
  {
   "cell_type": "code",
   "execution_count": 8,
   "metadata": {
    "scrolled": true
   },
   "outputs": [
    {
     "data": {
      "text/plain": [
       "array([49, 11])"
      ]
     },
     "execution_count": 8,
     "metadata": {},
     "output_type": "execute_result"
    }
   ],
   "source": [
    "data['max_capacity'].unique()"
   ]
  },
  {
   "cell_type": "code",
   "execution_count": 9,
   "metadata": {},
   "outputs": [],
   "source": [
    "parsed_data = pd.read_csv('train_revised.csv', parse_dates={'travel_date_time': ['travel_date', 'travel_time']})"
   ]
  },
  {
   "cell_type": "code",
   "execution_count": 10,
   "metadata": {},
   "outputs": [
    {
     "data": {
      "text/html": [
       "<div>\n",
       "<style scoped>\n",
       "    .dataframe tbody tr th:only-of-type {\n",
       "        vertical-align: middle;\n",
       "    }\n",
       "\n",
       "    .dataframe tbody tr th {\n",
       "        vertical-align: top;\n",
       "    }\n",
       "\n",
       "    .dataframe thead th {\n",
       "        text-align: right;\n",
       "    }\n",
       "</style>\n",
       "<table border=\"1\" class=\"dataframe\">\n",
       "  <thead>\n",
       "    <tr style=\"text-align: right;\">\n",
       "      <th></th>\n",
       "      <th>travel_date_time</th>\n",
       "      <th>ride_id</th>\n",
       "      <th>seat_number</th>\n",
       "      <th>payment_method</th>\n",
       "      <th>payment_receipt</th>\n",
       "      <th>travel_from</th>\n",
       "      <th>travel_to</th>\n",
       "      <th>car_type</th>\n",
       "      <th>max_capacity</th>\n",
       "    </tr>\n",
       "  </thead>\n",
       "  <tbody>\n",
       "    <tr>\n",
       "      <th>0</th>\n",
       "      <td>2017-10-17 07:15:00</td>\n",
       "      <td>1442</td>\n",
       "      <td>15A</td>\n",
       "      <td>Mpesa</td>\n",
       "      <td>UZUEHCBUSO</td>\n",
       "      <td>Migori</td>\n",
       "      <td>Nairobi</td>\n",
       "      <td>Bus</td>\n",
       "      <td>49</td>\n",
       "    </tr>\n",
       "    <tr>\n",
       "      <th>1</th>\n",
       "      <td>2017-11-19 07:12:00</td>\n",
       "      <td>5437</td>\n",
       "      <td>14A</td>\n",
       "      <td>Mpesa</td>\n",
       "      <td>TIHLBUSGTE</td>\n",
       "      <td>Migori</td>\n",
       "      <td>Nairobi</td>\n",
       "      <td>Bus</td>\n",
       "      <td>49</td>\n",
       "    </tr>\n",
       "    <tr>\n",
       "      <th>2</th>\n",
       "      <td>2017-11-26 07:05:00</td>\n",
       "      <td>5710</td>\n",
       "      <td>8B</td>\n",
       "      <td>Mpesa</td>\n",
       "      <td>EQX8Q5G19O</td>\n",
       "      <td>Keroka</td>\n",
       "      <td>Nairobi</td>\n",
       "      <td>Bus</td>\n",
       "      <td>49</td>\n",
       "    </tr>\n",
       "    <tr>\n",
       "      <th>3</th>\n",
       "      <td>2017-11-27 07:10:00</td>\n",
       "      <td>5777</td>\n",
       "      <td>19A</td>\n",
       "      <td>Mpesa</td>\n",
       "      <td>SGP18CL0ME</td>\n",
       "      <td>Homa Bay</td>\n",
       "      <td>Nairobi</td>\n",
       "      <td>Bus</td>\n",
       "      <td>49</td>\n",
       "    </tr>\n",
       "    <tr>\n",
       "      <th>4</th>\n",
       "      <td>2017-11-27 07:12:00</td>\n",
       "      <td>5778</td>\n",
       "      <td>11A</td>\n",
       "      <td>Mpesa</td>\n",
       "      <td>BM97HFRGL9</td>\n",
       "      <td>Migori</td>\n",
       "      <td>Nairobi</td>\n",
       "      <td>Bus</td>\n",
       "      <td>49</td>\n",
       "    </tr>\n",
       "  </tbody>\n",
       "</table>\n",
       "</div>"
      ],
      "text/plain": [
       "     travel_date_time  ride_id seat_number payment_method payment_receipt  \\\n",
       "0 2017-10-17 07:15:00     1442         15A          Mpesa      UZUEHCBUSO   \n",
       "1 2017-11-19 07:12:00     5437         14A          Mpesa      TIHLBUSGTE   \n",
       "2 2017-11-26 07:05:00     5710          8B          Mpesa      EQX8Q5G19O   \n",
       "3 2017-11-27 07:10:00     5777         19A          Mpesa      SGP18CL0ME   \n",
       "4 2017-11-27 07:12:00     5778         11A          Mpesa      BM97HFRGL9   \n",
       "\n",
       "  travel_from travel_to car_type  max_capacity  \n",
       "0      Migori   Nairobi      Bus            49  \n",
       "1      Migori   Nairobi      Bus            49  \n",
       "2      Keroka   Nairobi      Bus            49  \n",
       "3    Homa Bay   Nairobi      Bus            49  \n",
       "4      Migori   Nairobi      Bus            49  "
      ]
     },
     "execution_count": 10,
     "metadata": {},
     "output_type": "execute_result"
    }
   ],
   "source": [
    "parsed_data.head()"
   ]
  },
  {
   "cell_type": "code",
   "execution_count": 11,
   "metadata": {},
   "outputs": [],
   "source": [
    "parsed_data.set_index('travel_date_time', inplace=True)"
   ]
  },
  {
   "cell_type": "code",
   "execution_count": 12,
   "metadata": {},
   "outputs": [
    {
     "data": {
      "text/html": [
       "<div>\n",
       "<style scoped>\n",
       "    .dataframe tbody tr th:only-of-type {\n",
       "        vertical-align: middle;\n",
       "    }\n",
       "\n",
       "    .dataframe tbody tr th {\n",
       "        vertical-align: top;\n",
       "    }\n",
       "\n",
       "    .dataframe thead th {\n",
       "        text-align: right;\n",
       "    }\n",
       "</style>\n",
       "<table border=\"1\" class=\"dataframe\">\n",
       "  <thead>\n",
       "    <tr style=\"text-align: right;\">\n",
       "      <th></th>\n",
       "      <th>ride_id</th>\n",
       "      <th>seat_number</th>\n",
       "      <th>payment_method</th>\n",
       "      <th>payment_receipt</th>\n",
       "      <th>travel_from</th>\n",
       "      <th>travel_to</th>\n",
       "      <th>car_type</th>\n",
       "      <th>max_capacity</th>\n",
       "    </tr>\n",
       "    <tr>\n",
       "      <th>travel_date_time</th>\n",
       "      <th></th>\n",
       "      <th></th>\n",
       "      <th></th>\n",
       "      <th></th>\n",
       "      <th></th>\n",
       "      <th></th>\n",
       "      <th></th>\n",
       "      <th></th>\n",
       "    </tr>\n",
       "  </thead>\n",
       "  <tbody>\n",
       "    <tr>\n",
       "      <th>2017-10-17 07:15:00</th>\n",
       "      <td>1442</td>\n",
       "      <td>15A</td>\n",
       "      <td>Mpesa</td>\n",
       "      <td>UZUEHCBUSO</td>\n",
       "      <td>Migori</td>\n",
       "      <td>Nairobi</td>\n",
       "      <td>Bus</td>\n",
       "      <td>49</td>\n",
       "    </tr>\n",
       "    <tr>\n",
       "      <th>2017-11-19 07:12:00</th>\n",
       "      <td>5437</td>\n",
       "      <td>14A</td>\n",
       "      <td>Mpesa</td>\n",
       "      <td>TIHLBUSGTE</td>\n",
       "      <td>Migori</td>\n",
       "      <td>Nairobi</td>\n",
       "      <td>Bus</td>\n",
       "      <td>49</td>\n",
       "    </tr>\n",
       "    <tr>\n",
       "      <th>2017-11-26 07:05:00</th>\n",
       "      <td>5710</td>\n",
       "      <td>8B</td>\n",
       "      <td>Mpesa</td>\n",
       "      <td>EQX8Q5G19O</td>\n",
       "      <td>Keroka</td>\n",
       "      <td>Nairobi</td>\n",
       "      <td>Bus</td>\n",
       "      <td>49</td>\n",
       "    </tr>\n",
       "    <tr>\n",
       "      <th>2017-11-27 07:10:00</th>\n",
       "      <td>5777</td>\n",
       "      <td>19A</td>\n",
       "      <td>Mpesa</td>\n",
       "      <td>SGP18CL0ME</td>\n",
       "      <td>Homa Bay</td>\n",
       "      <td>Nairobi</td>\n",
       "      <td>Bus</td>\n",
       "      <td>49</td>\n",
       "    </tr>\n",
       "    <tr>\n",
       "      <th>2017-11-27 07:12:00</th>\n",
       "      <td>5778</td>\n",
       "      <td>11A</td>\n",
       "      <td>Mpesa</td>\n",
       "      <td>BM97HFRGL9</td>\n",
       "      <td>Migori</td>\n",
       "      <td>Nairobi</td>\n",
       "      <td>Bus</td>\n",
       "      <td>49</td>\n",
       "    </tr>\n",
       "  </tbody>\n",
       "</table>\n",
       "</div>"
      ],
      "text/plain": [
       "                     ride_id seat_number payment_method payment_receipt  \\\n",
       "travel_date_time                                                          \n",
       "2017-10-17 07:15:00     1442         15A          Mpesa      UZUEHCBUSO   \n",
       "2017-11-19 07:12:00     5437         14A          Mpesa      TIHLBUSGTE   \n",
       "2017-11-26 07:05:00     5710          8B          Mpesa      EQX8Q5G19O   \n",
       "2017-11-27 07:10:00     5777         19A          Mpesa      SGP18CL0ME   \n",
       "2017-11-27 07:12:00     5778         11A          Mpesa      BM97HFRGL9   \n",
       "\n",
       "                    travel_from travel_to car_type  max_capacity  \n",
       "travel_date_time                                                  \n",
       "2017-10-17 07:15:00      Migori   Nairobi      Bus            49  \n",
       "2017-11-19 07:12:00      Migori   Nairobi      Bus            49  \n",
       "2017-11-26 07:05:00      Keroka   Nairobi      Bus            49  \n",
       "2017-11-27 07:10:00    Homa Bay   Nairobi      Bus            49  \n",
       "2017-11-27 07:12:00      Migori   Nairobi      Bus            49  "
      ]
     },
     "execution_count": 12,
     "metadata": {},
     "output_type": "execute_result"
    }
   ],
   "source": [
    "parsed_data.head()"
   ]
  },
  {
   "cell_type": "code",
   "execution_count": 13,
   "metadata": {},
   "outputs": [],
   "source": [
    "parsed_data['day_of_week'] = parsed_data.index.weekday_name"
   ]
  },
  {
   "cell_type": "code",
   "execution_count": 14,
   "metadata": {},
   "outputs": [
    {
     "data": {
      "text/html": [
       "<div>\n",
       "<style scoped>\n",
       "    .dataframe tbody tr th:only-of-type {\n",
       "        vertical-align: middle;\n",
       "    }\n",
       "\n",
       "    .dataframe tbody tr th {\n",
       "        vertical-align: top;\n",
       "    }\n",
       "\n",
       "    .dataframe thead th {\n",
       "        text-align: right;\n",
       "    }\n",
       "</style>\n",
       "<table border=\"1\" class=\"dataframe\">\n",
       "  <thead>\n",
       "    <tr style=\"text-align: right;\">\n",
       "      <th></th>\n",
       "      <th>ride_id</th>\n",
       "      <th>seat_number</th>\n",
       "      <th>payment_method</th>\n",
       "      <th>payment_receipt</th>\n",
       "      <th>travel_from</th>\n",
       "      <th>travel_to</th>\n",
       "      <th>car_type</th>\n",
       "      <th>max_capacity</th>\n",
       "      <th>day_of_week</th>\n",
       "    </tr>\n",
       "    <tr>\n",
       "      <th>travel_date_time</th>\n",
       "      <th></th>\n",
       "      <th></th>\n",
       "      <th></th>\n",
       "      <th></th>\n",
       "      <th></th>\n",
       "      <th></th>\n",
       "      <th></th>\n",
       "      <th></th>\n",
       "      <th></th>\n",
       "    </tr>\n",
       "  </thead>\n",
       "  <tbody>\n",
       "    <tr>\n",
       "      <th>2017-10-17 07:15:00</th>\n",
       "      <td>1442</td>\n",
       "      <td>15A</td>\n",
       "      <td>Mpesa</td>\n",
       "      <td>UZUEHCBUSO</td>\n",
       "      <td>Migori</td>\n",
       "      <td>Nairobi</td>\n",
       "      <td>Bus</td>\n",
       "      <td>49</td>\n",
       "      <td>Tuesday</td>\n",
       "    </tr>\n",
       "    <tr>\n",
       "      <th>2017-11-19 07:12:00</th>\n",
       "      <td>5437</td>\n",
       "      <td>14A</td>\n",
       "      <td>Mpesa</td>\n",
       "      <td>TIHLBUSGTE</td>\n",
       "      <td>Migori</td>\n",
       "      <td>Nairobi</td>\n",
       "      <td>Bus</td>\n",
       "      <td>49</td>\n",
       "      <td>Sunday</td>\n",
       "    </tr>\n",
       "    <tr>\n",
       "      <th>2017-11-26 07:05:00</th>\n",
       "      <td>5710</td>\n",
       "      <td>8B</td>\n",
       "      <td>Mpesa</td>\n",
       "      <td>EQX8Q5G19O</td>\n",
       "      <td>Keroka</td>\n",
       "      <td>Nairobi</td>\n",
       "      <td>Bus</td>\n",
       "      <td>49</td>\n",
       "      <td>Sunday</td>\n",
       "    </tr>\n",
       "    <tr>\n",
       "      <th>2017-11-27 07:10:00</th>\n",
       "      <td>5777</td>\n",
       "      <td>19A</td>\n",
       "      <td>Mpesa</td>\n",
       "      <td>SGP18CL0ME</td>\n",
       "      <td>Homa Bay</td>\n",
       "      <td>Nairobi</td>\n",
       "      <td>Bus</td>\n",
       "      <td>49</td>\n",
       "      <td>Monday</td>\n",
       "    </tr>\n",
       "    <tr>\n",
       "      <th>2017-11-27 07:12:00</th>\n",
       "      <td>5778</td>\n",
       "      <td>11A</td>\n",
       "      <td>Mpesa</td>\n",
       "      <td>BM97HFRGL9</td>\n",
       "      <td>Migori</td>\n",
       "      <td>Nairobi</td>\n",
       "      <td>Bus</td>\n",
       "      <td>49</td>\n",
       "      <td>Monday</td>\n",
       "    </tr>\n",
       "  </tbody>\n",
       "</table>\n",
       "</div>"
      ],
      "text/plain": [
       "                     ride_id seat_number payment_method payment_receipt  \\\n",
       "travel_date_time                                                          \n",
       "2017-10-17 07:15:00     1442         15A          Mpesa      UZUEHCBUSO   \n",
       "2017-11-19 07:12:00     5437         14A          Mpesa      TIHLBUSGTE   \n",
       "2017-11-26 07:05:00     5710          8B          Mpesa      EQX8Q5G19O   \n",
       "2017-11-27 07:10:00     5777         19A          Mpesa      SGP18CL0ME   \n",
       "2017-11-27 07:12:00     5778         11A          Mpesa      BM97HFRGL9   \n",
       "\n",
       "                    travel_from travel_to car_type  max_capacity day_of_week  \n",
       "travel_date_time                                                              \n",
       "2017-10-17 07:15:00      Migori   Nairobi      Bus            49     Tuesday  \n",
       "2017-11-19 07:12:00      Migori   Nairobi      Bus            49      Sunday  \n",
       "2017-11-26 07:05:00      Keroka   Nairobi      Bus            49      Sunday  \n",
       "2017-11-27 07:10:00    Homa Bay   Nairobi      Bus            49      Monday  \n",
       "2017-11-27 07:12:00      Migori   Nairobi      Bus            49      Monday  "
      ]
     },
     "execution_count": 14,
     "metadata": {},
     "output_type": "execute_result"
    }
   ],
   "source": [
    "parsed_data.head()"
   ]
  },
  {
   "cell_type": "code",
   "execution_count": null,
   "metadata": {},
   "outputs": [],
   "source": []
  },
  {
   "cell_type": "markdown",
   "metadata": {},
   "source": [
    "##### Find on average the top seven (7) most travelled routes for a Sunday. Indicate the average of each and rank them in decreasing order.\n",
    "> Find sundays"
   ]
  },
  {
   "cell_type": "code",
   "execution_count": 15,
   "metadata": {},
   "outputs": [],
   "source": [
    "sunday_data = parsed_data[parsed_data['day_of_week'] == 'Sunday']"
   ]
  },
  {
   "cell_type": "code",
   "execution_count": 16,
   "metadata": {},
   "outputs": [
    {
     "data": {
      "text/html": [
       "<div>\n",
       "<style scoped>\n",
       "    .dataframe tbody tr th:only-of-type {\n",
       "        vertical-align: middle;\n",
       "    }\n",
       "\n",
       "    .dataframe tbody tr th {\n",
       "        vertical-align: top;\n",
       "    }\n",
       "\n",
       "    .dataframe thead th {\n",
       "        text-align: right;\n",
       "    }\n",
       "</style>\n",
       "<table border=\"1\" class=\"dataframe\">\n",
       "  <thead>\n",
       "    <tr style=\"text-align: right;\">\n",
       "      <th></th>\n",
       "      <th>ride_id</th>\n",
       "      <th>seat_number</th>\n",
       "      <th>payment_method</th>\n",
       "      <th>payment_receipt</th>\n",
       "      <th>travel_from</th>\n",
       "      <th>travel_to</th>\n",
       "      <th>car_type</th>\n",
       "      <th>max_capacity</th>\n",
       "      <th>day_of_week</th>\n",
       "    </tr>\n",
       "    <tr>\n",
       "      <th>travel_date_time</th>\n",
       "      <th></th>\n",
       "      <th></th>\n",
       "      <th></th>\n",
       "      <th></th>\n",
       "      <th></th>\n",
       "      <th></th>\n",
       "      <th></th>\n",
       "      <th></th>\n",
       "      <th></th>\n",
       "    </tr>\n",
       "  </thead>\n",
       "  <tbody>\n",
       "    <tr>\n",
       "      <th>2017-11-19 07:12:00</th>\n",
       "      <td>5437</td>\n",
       "      <td>14A</td>\n",
       "      <td>Mpesa</td>\n",
       "      <td>TIHLBUSGTE</td>\n",
       "      <td>Migori</td>\n",
       "      <td>Nairobi</td>\n",
       "      <td>Bus</td>\n",
       "      <td>49</td>\n",
       "      <td>Sunday</td>\n",
       "    </tr>\n",
       "    <tr>\n",
       "      <th>2017-11-26 07:05:00</th>\n",
       "      <td>5710</td>\n",
       "      <td>8B</td>\n",
       "      <td>Mpesa</td>\n",
       "      <td>EQX8Q5G19O</td>\n",
       "      <td>Keroka</td>\n",
       "      <td>Nairobi</td>\n",
       "      <td>Bus</td>\n",
       "      <td>49</td>\n",
       "      <td>Sunday</td>\n",
       "    </tr>\n",
       "    <tr>\n",
       "      <th>2018-04-15 05:20:00</th>\n",
       "      <td>5856</td>\n",
       "      <td>9</td>\n",
       "      <td>Cash</td>\n",
       "      <td>MDF1ULUMPX</td>\n",
       "      <td>Kisii</td>\n",
       "      <td>Nairobi</td>\n",
       "      <td>shuttle</td>\n",
       "      <td>11</td>\n",
       "      <td>Sunday</td>\n",
       "    </tr>\n",
       "    <tr>\n",
       "      <th>2018-04-15 05:00:00</th>\n",
       "      <td>5857</td>\n",
       "      <td>6</td>\n",
       "      <td>Cash</td>\n",
       "      <td>MDF1ULG1GR</td>\n",
       "      <td>Kisii</td>\n",
       "      <td>Nairobi</td>\n",
       "      <td>shuttle</td>\n",
       "      <td>11</td>\n",
       "      <td>Sunday</td>\n",
       "    </tr>\n",
       "    <tr>\n",
       "      <th>2018-04-15 05:00:00</th>\n",
       "      <td>5857</td>\n",
       "      <td>3</td>\n",
       "      <td>Cash</td>\n",
       "      <td>MDF6ULD8NQ</td>\n",
       "      <td>Kisii</td>\n",
       "      <td>Nairobi</td>\n",
       "      <td>shuttle</td>\n",
       "      <td>11</td>\n",
       "      <td>Sunday</td>\n",
       "    </tr>\n",
       "  </tbody>\n",
       "</table>\n",
       "</div>"
      ],
      "text/plain": [
       "                     ride_id seat_number payment_method payment_receipt  \\\n",
       "travel_date_time                                                          \n",
       "2017-11-19 07:12:00     5437         14A          Mpesa      TIHLBUSGTE   \n",
       "2017-11-26 07:05:00     5710          8B          Mpesa      EQX8Q5G19O   \n",
       "2018-04-15 05:20:00     5856           9           Cash      MDF1ULUMPX   \n",
       "2018-04-15 05:00:00     5857           6           Cash      MDF1ULG1GR   \n",
       "2018-04-15 05:00:00     5857           3           Cash      MDF6ULD8NQ   \n",
       "\n",
       "                    travel_from travel_to car_type  max_capacity day_of_week  \n",
       "travel_date_time                                                              \n",
       "2017-11-19 07:12:00      Migori   Nairobi      Bus            49      Sunday  \n",
       "2017-11-26 07:05:00      Keroka   Nairobi      Bus            49      Sunday  \n",
       "2018-04-15 05:20:00       Kisii   Nairobi  shuttle            11      Sunday  \n",
       "2018-04-15 05:00:00       Kisii   Nairobi  shuttle            11      Sunday  \n",
       "2018-04-15 05:00:00       Kisii   Nairobi  shuttle            11      Sunday  "
      ]
     },
     "execution_count": 16,
     "metadata": {},
     "output_type": "execute_result"
    }
   ],
   "source": [
    "sunday_data.head()"
   ]
  },
  {
   "cell_type": "code",
   "execution_count": 17,
   "metadata": {},
   "outputs": [
    {
     "data": {
      "text/plain": [
       "Kisii        2756\n",
       "Migori        973\n",
       "Homa Bay      910\n",
       "Sirare        629\n",
       "Rongo         538\n",
       "Kehancha      301\n",
       "Awendo        296\n",
       "Kijauri       115\n",
       "Nyachenge      85\n",
       "Mbita          83\n",
       "Rodi           63\n",
       "Ndhiwa         45\n",
       "Keroka         41\n",
       "Sori            9\n",
       "Keumbu          3\n",
       "Name: travel_from, dtype: int64"
      ]
     },
     "execution_count": 17,
     "metadata": {},
     "output_type": "execute_result"
    }
   ],
   "source": [
    "sunday_data['travel_from'].value_counts()"
   ]
  },
  {
   "cell_type": "code",
   "execution_count": 18,
   "metadata": {},
   "outputs": [
    {
     "data": {
      "text/plain": [
       "(6847, 9)"
      ]
     },
     "execution_count": 18,
     "metadata": {},
     "output_type": "execute_result"
    }
   ],
   "source": [
    "sunday_data.shape"
   ]
  },
  {
   "cell_type": "code",
   "execution_count": 19,
   "metadata": {},
   "outputs": [
    {
     "data": {
      "text/plain": [
       "6847"
      ]
     },
     "execution_count": 19,
     "metadata": {},
     "output_type": "execute_result"
    }
   ],
   "source": [
    "sunday_data['travel_from'].value_counts().sum()"
   ]
  },
  {
   "cell_type": "markdown",
   "metadata": {},
   "source": [
    "##### Top 7 most travelled routes for a Sunday"
   ]
  },
  {
   "cell_type": "code",
   "execution_count": 20,
   "metadata": {},
   "outputs": [
    {
     "data": {
      "text/plain": [
       "Kisii       2756\n",
       "Migori       973\n",
       "Homa Bay     910\n",
       "Sirare       629\n",
       "Rongo        538\n",
       "Kehancha     301\n",
       "Awendo       296\n",
       "Name: travel_from, dtype: int64"
      ]
     },
     "execution_count": 20,
     "metadata": {},
     "output_type": "execute_result"
    }
   ],
   "source": [
    "sunday_data['travel_from'].value_counts().head(7)"
   ]
  },
  {
   "cell_type": "code",
   "execution_count": null,
   "metadata": {},
   "outputs": [],
   "source": []
  },
  {
   "cell_type": "markdown",
   "metadata": {},
   "source": [
    "##### What is the probability that a passenger travelling from Kijauri will take a Shuttle if they depart before 0730 hours?"
   ]
  },
  {
   "cell_type": "code",
   "execution_count": 21,
   "metadata": {},
   "outputs": [],
   "source": [
    "kijauri_data = parsed_data[parsed_data['travel_from'] == 'Kijauri']"
   ]
  },
  {
   "cell_type": "code",
   "execution_count": 22,
   "metadata": {
    "scrolled": true
   },
   "outputs": [
    {
     "data": {
      "text/html": [
       "<div>\n",
       "<style scoped>\n",
       "    .dataframe tbody tr th:only-of-type {\n",
       "        vertical-align: middle;\n",
       "    }\n",
       "\n",
       "    .dataframe tbody tr th {\n",
       "        vertical-align: top;\n",
       "    }\n",
       "\n",
       "    .dataframe thead th {\n",
       "        text-align: right;\n",
       "    }\n",
       "</style>\n",
       "<table border=\"1\" class=\"dataframe\">\n",
       "  <thead>\n",
       "    <tr style=\"text-align: right;\">\n",
       "      <th></th>\n",
       "      <th>ride_id</th>\n",
       "      <th>seat_number</th>\n",
       "      <th>payment_method</th>\n",
       "      <th>payment_receipt</th>\n",
       "      <th>travel_from</th>\n",
       "      <th>travel_to</th>\n",
       "      <th>car_type</th>\n",
       "      <th>max_capacity</th>\n",
       "      <th>day_of_week</th>\n",
       "    </tr>\n",
       "    <tr>\n",
       "      <th>travel_date_time</th>\n",
       "      <th></th>\n",
       "      <th></th>\n",
       "      <th></th>\n",
       "      <th></th>\n",
       "      <th></th>\n",
       "      <th></th>\n",
       "      <th></th>\n",
       "      <th></th>\n",
       "      <th></th>\n",
       "    </tr>\n",
       "  </thead>\n",
       "  <tbody>\n",
       "    <tr>\n",
       "      <th>2017-04-12 07:07:00</th>\n",
       "      <td>6560</td>\n",
       "      <td>1A</td>\n",
       "      <td>Mpesa</td>\n",
       "      <td>XY20JTZHY4</td>\n",
       "      <td>Kijauri</td>\n",
       "      <td>Nairobi</td>\n",
       "      <td>Bus</td>\n",
       "      <td>49</td>\n",
       "      <td>Wednesday</td>\n",
       "    </tr>\n",
       "    <tr>\n",
       "      <th>2017-04-12 07:00:00</th>\n",
       "      <td>6568</td>\n",
       "      <td>9</td>\n",
       "      <td>Mpesa</td>\n",
       "      <td>EJXHRAFPCQ</td>\n",
       "      <td>Kijauri</td>\n",
       "      <td>Nairobi</td>\n",
       "      <td>shuttle</td>\n",
       "      <td>11</td>\n",
       "      <td>Wednesday</td>\n",
       "    </tr>\n",
       "    <tr>\n",
       "      <th>2017-04-12 07:07:00</th>\n",
       "      <td>6560</td>\n",
       "      <td>21B</td>\n",
       "      <td>Mpesa</td>\n",
       "      <td>QVBJ6ZAT75</td>\n",
       "      <td>Kijauri</td>\n",
       "      <td>Nairobi</td>\n",
       "      <td>Bus</td>\n",
       "      <td>49</td>\n",
       "      <td>Wednesday</td>\n",
       "    </tr>\n",
       "    <tr>\n",
       "      <th>2017-04-12 07:06:00</th>\n",
       "      <td>6570</td>\n",
       "      <td>20B</td>\n",
       "      <td>Mpesa</td>\n",
       "      <td>0KBEL0BJDK</td>\n",
       "      <td>Kijauri</td>\n",
       "      <td>Nairobi</td>\n",
       "      <td>Bus</td>\n",
       "      <td>49</td>\n",
       "      <td>Wednesday</td>\n",
       "    </tr>\n",
       "    <tr>\n",
       "      <th>2017-04-12 07:00:00</th>\n",
       "      <td>6568</td>\n",
       "      <td>10</td>\n",
       "      <td>Mpesa</td>\n",
       "      <td>IFXMNKI8NO</td>\n",
       "      <td>Kijauri</td>\n",
       "      <td>Nairobi</td>\n",
       "      <td>shuttle</td>\n",
       "      <td>11</td>\n",
       "      <td>Wednesday</td>\n",
       "    </tr>\n",
       "  </tbody>\n",
       "</table>\n",
       "</div>"
      ],
      "text/plain": [
       "                     ride_id seat_number payment_method payment_receipt  \\\n",
       "travel_date_time                                                          \n",
       "2017-04-12 07:07:00     6560          1A          Mpesa      XY20JTZHY4   \n",
       "2017-04-12 07:00:00     6568           9          Mpesa      EJXHRAFPCQ   \n",
       "2017-04-12 07:07:00     6560         21B          Mpesa      QVBJ6ZAT75   \n",
       "2017-04-12 07:06:00     6570         20B          Mpesa      0KBEL0BJDK   \n",
       "2017-04-12 07:00:00     6568          10          Mpesa      IFXMNKI8NO   \n",
       "\n",
       "                    travel_from travel_to car_type  max_capacity day_of_week  \n",
       "travel_date_time                                                              \n",
       "2017-04-12 07:07:00     Kijauri   Nairobi      Bus            49   Wednesday  \n",
       "2017-04-12 07:00:00     Kijauri   Nairobi  shuttle            11   Wednesday  \n",
       "2017-04-12 07:07:00     Kijauri   Nairobi      Bus            49   Wednesday  \n",
       "2017-04-12 07:06:00     Kijauri   Nairobi      Bus            49   Wednesday  \n",
       "2017-04-12 07:00:00     Kijauri   Nairobi  shuttle            11   Wednesday  "
      ]
     },
     "execution_count": 22,
     "metadata": {},
     "output_type": "execute_result"
    }
   ],
   "source": [
    "kijauri_data.head()"
   ]
  },
  {
   "cell_type": "markdown",
   "metadata": {},
   "source": [
    "##### Get the data for departure before 0730 hrs\n",
    "- We use the datetime module provided by python"
   ]
  },
  {
   "cell_type": "code",
   "execution_count": null,
   "metadata": {},
   "outputs": [],
   "source": []
  },
  {
   "cell_type": "code",
   "execution_count": 23,
   "metadata": {},
   "outputs": [],
   "source": [
    "import datetime"
   ]
  },
  {
   "cell_type": "code",
   "execution_count": 24,
   "metadata": {},
   "outputs": [],
   "source": [
    "kijauri_data_leave_before_0730hrs = kijauri_data[kijauri_data.index.time < datetime.time(7, 30)]"
   ]
  },
  {
   "cell_type": "code",
   "execution_count": 25,
   "metadata": {},
   "outputs": [
    {
     "data": {
      "text/html": [
       "<div>\n",
       "<style scoped>\n",
       "    .dataframe tbody tr th:only-of-type {\n",
       "        vertical-align: middle;\n",
       "    }\n",
       "\n",
       "    .dataframe tbody tr th {\n",
       "        vertical-align: top;\n",
       "    }\n",
       "\n",
       "    .dataframe thead th {\n",
       "        text-align: right;\n",
       "    }\n",
       "</style>\n",
       "<table border=\"1\" class=\"dataframe\">\n",
       "  <thead>\n",
       "    <tr style=\"text-align: right;\">\n",
       "      <th></th>\n",
       "      <th>ride_id</th>\n",
       "      <th>seat_number</th>\n",
       "      <th>payment_method</th>\n",
       "      <th>payment_receipt</th>\n",
       "      <th>travel_from</th>\n",
       "      <th>travel_to</th>\n",
       "      <th>car_type</th>\n",
       "      <th>max_capacity</th>\n",
       "      <th>day_of_week</th>\n",
       "    </tr>\n",
       "    <tr>\n",
       "      <th>travel_date_time</th>\n",
       "      <th></th>\n",
       "      <th></th>\n",
       "      <th></th>\n",
       "      <th></th>\n",
       "      <th></th>\n",
       "      <th></th>\n",
       "      <th></th>\n",
       "      <th></th>\n",
       "      <th></th>\n",
       "    </tr>\n",
       "  </thead>\n",
       "  <tbody>\n",
       "    <tr>\n",
       "      <th>2017-04-12 07:07:00</th>\n",
       "      <td>6560</td>\n",
       "      <td>1A</td>\n",
       "      <td>Mpesa</td>\n",
       "      <td>XY20JTZHY4</td>\n",
       "      <td>Kijauri</td>\n",
       "      <td>Nairobi</td>\n",
       "      <td>Bus</td>\n",
       "      <td>49</td>\n",
       "      <td>Wednesday</td>\n",
       "    </tr>\n",
       "    <tr>\n",
       "      <th>2017-04-12 07:00:00</th>\n",
       "      <td>6568</td>\n",
       "      <td>9</td>\n",
       "      <td>Mpesa</td>\n",
       "      <td>EJXHRAFPCQ</td>\n",
       "      <td>Kijauri</td>\n",
       "      <td>Nairobi</td>\n",
       "      <td>shuttle</td>\n",
       "      <td>11</td>\n",
       "      <td>Wednesday</td>\n",
       "    </tr>\n",
       "    <tr>\n",
       "      <th>2017-04-12 07:07:00</th>\n",
       "      <td>6560</td>\n",
       "      <td>21B</td>\n",
       "      <td>Mpesa</td>\n",
       "      <td>QVBJ6ZAT75</td>\n",
       "      <td>Kijauri</td>\n",
       "      <td>Nairobi</td>\n",
       "      <td>Bus</td>\n",
       "      <td>49</td>\n",
       "      <td>Wednesday</td>\n",
       "    </tr>\n",
       "    <tr>\n",
       "      <th>2017-04-12 07:06:00</th>\n",
       "      <td>6570</td>\n",
       "      <td>20B</td>\n",
       "      <td>Mpesa</td>\n",
       "      <td>0KBEL0BJDK</td>\n",
       "      <td>Kijauri</td>\n",
       "      <td>Nairobi</td>\n",
       "      <td>Bus</td>\n",
       "      <td>49</td>\n",
       "      <td>Wednesday</td>\n",
       "    </tr>\n",
       "    <tr>\n",
       "      <th>2017-04-12 07:00:00</th>\n",
       "      <td>6568</td>\n",
       "      <td>10</td>\n",
       "      <td>Mpesa</td>\n",
       "      <td>IFXMNKI8NO</td>\n",
       "      <td>Kijauri</td>\n",
       "      <td>Nairobi</td>\n",
       "      <td>shuttle</td>\n",
       "      <td>11</td>\n",
       "      <td>Wednesday</td>\n",
       "    </tr>\n",
       "  </tbody>\n",
       "</table>\n",
       "</div>"
      ],
      "text/plain": [
       "                     ride_id seat_number payment_method payment_receipt  \\\n",
       "travel_date_time                                                          \n",
       "2017-04-12 07:07:00     6560          1A          Mpesa      XY20JTZHY4   \n",
       "2017-04-12 07:00:00     6568           9          Mpesa      EJXHRAFPCQ   \n",
       "2017-04-12 07:07:00     6560         21B          Mpesa      QVBJ6ZAT75   \n",
       "2017-04-12 07:06:00     6570         20B          Mpesa      0KBEL0BJDK   \n",
       "2017-04-12 07:00:00     6568          10          Mpesa      IFXMNKI8NO   \n",
       "\n",
       "                    travel_from travel_to car_type  max_capacity day_of_week  \n",
       "travel_date_time                                                              \n",
       "2017-04-12 07:07:00     Kijauri   Nairobi      Bus            49   Wednesday  \n",
       "2017-04-12 07:00:00     Kijauri   Nairobi  shuttle            11   Wednesday  \n",
       "2017-04-12 07:07:00     Kijauri   Nairobi      Bus            49   Wednesday  \n",
       "2017-04-12 07:06:00     Kijauri   Nairobi      Bus            49   Wednesday  \n",
       "2017-04-12 07:00:00     Kijauri   Nairobi  shuttle            11   Wednesday  "
      ]
     },
     "execution_count": 25,
     "metadata": {},
     "output_type": "execute_result"
    }
   ],
   "source": [
    "kijauri_data_leave_before_0730hrs.head()"
   ]
  },
  {
   "cell_type": "code",
   "execution_count": 26,
   "metadata": {},
   "outputs": [
    {
     "data": {
      "text/plain": [
       "shuttle    433\n",
       "Bus        386\n",
       "Name: car_type, dtype: int64"
      ]
     },
     "execution_count": 26,
     "metadata": {},
     "output_type": "execute_result"
    }
   ],
   "source": [
    "kijauri_data_leave_before_0730hrs['car_type'].value_counts()"
   ]
  },
  {
   "cell_type": "code",
   "execution_count": null,
   "metadata": {},
   "outputs": [],
   "source": []
  },
  {
   "cell_type": "code",
   "execution_count": 27,
   "metadata": {},
   "outputs": [],
   "source": [
    "shuttle = kijauri_data_leave_before_0730hrs['car_type'].value_counts().values[0]\n",
    "bus = kijauri_data_leave_before_0730hrs['car_type'].value_counts().values[1]"
   ]
  },
  {
   "cell_type": "markdown",
   "metadata": {},
   "source": [
    "##### Probability to travel by shuttle\n",
    "> $(shuttle)$ / ${((shuttle)+(bus))}$"
   ]
  },
  {
   "cell_type": "code",
   "execution_count": 28,
   "metadata": {},
   "outputs": [],
   "source": [
    "probability_to_travel_by_shuttle = (shuttle) / (shuttle + bus)"
   ]
  },
  {
   "cell_type": "code",
   "execution_count": 29,
   "metadata": {},
   "outputs": [
    {
     "data": {
      "text/plain": [
       "0.5286935286935287"
      ]
     },
     "execution_count": 29,
     "metadata": {},
     "output_type": "execute_result"
    }
   ],
   "source": [
    "probability_to_travel_by_shuttle"
   ]
  },
  {
   "cell_type": "code",
   "execution_count": null,
   "metadata": {},
   "outputs": [],
   "source": []
  },
  {
   "cell_type": "markdown",
   "metadata": {},
   "source": [
    "##### The Sequence ‘MK’ appears in a payment reference. Based on the tri-gram distribution of characters in all the payment references, what is the most probable next character?"
   ]
  },
  {
   "cell_type": "markdown",
   "metadata": {},
   "source": [
    "##### Get the data that contains payment references with 'MK'\n",
    "> We define a function to help us do that\n",
    "\n",
    "> Then we apply it to the dataset"
   ]
  },
  {
   "cell_type": "code",
   "execution_count": 30,
   "metadata": {},
   "outputs": [],
   "source": [
    "def has_MK(val):\n",
    "    if 'MK' in val:\n",
    "        return True\n",
    "    else:\n",
    "        return False"
   ]
  },
  {
   "cell_type": "code",
   "execution_count": 31,
   "metadata": {},
   "outputs": [],
   "source": [
    "parsed_data['has_MK'] = parsed_data['payment_receipt'].apply(has_MK)"
   ]
  },
  {
   "cell_type": "code",
   "execution_count": 32,
   "metadata": {},
   "outputs": [
    {
     "data": {
      "text/html": [
       "<div>\n",
       "<style scoped>\n",
       "    .dataframe tbody tr th:only-of-type {\n",
       "        vertical-align: middle;\n",
       "    }\n",
       "\n",
       "    .dataframe tbody tr th {\n",
       "        vertical-align: top;\n",
       "    }\n",
       "\n",
       "    .dataframe thead th {\n",
       "        text-align: right;\n",
       "    }\n",
       "</style>\n",
       "<table border=\"1\" class=\"dataframe\">\n",
       "  <thead>\n",
       "    <tr style=\"text-align: right;\">\n",
       "      <th></th>\n",
       "      <th>ride_id</th>\n",
       "      <th>seat_number</th>\n",
       "      <th>payment_method</th>\n",
       "      <th>payment_receipt</th>\n",
       "      <th>travel_from</th>\n",
       "      <th>travel_to</th>\n",
       "      <th>car_type</th>\n",
       "      <th>max_capacity</th>\n",
       "      <th>day_of_week</th>\n",
       "      <th>has_MK</th>\n",
       "    </tr>\n",
       "    <tr>\n",
       "      <th>travel_date_time</th>\n",
       "      <th></th>\n",
       "      <th></th>\n",
       "      <th></th>\n",
       "      <th></th>\n",
       "      <th></th>\n",
       "      <th></th>\n",
       "      <th></th>\n",
       "      <th></th>\n",
       "      <th></th>\n",
       "      <th></th>\n",
       "    </tr>\n",
       "  </thead>\n",
       "  <tbody>\n",
       "    <tr>\n",
       "      <th>2017-10-17 07:15:00</th>\n",
       "      <td>1442</td>\n",
       "      <td>15A</td>\n",
       "      <td>Mpesa</td>\n",
       "      <td>UZUEHCBUSO</td>\n",
       "      <td>Migori</td>\n",
       "      <td>Nairobi</td>\n",
       "      <td>Bus</td>\n",
       "      <td>49</td>\n",
       "      <td>Tuesday</td>\n",
       "      <td>False</td>\n",
       "    </tr>\n",
       "    <tr>\n",
       "      <th>2017-11-19 07:12:00</th>\n",
       "      <td>5437</td>\n",
       "      <td>14A</td>\n",
       "      <td>Mpesa</td>\n",
       "      <td>TIHLBUSGTE</td>\n",
       "      <td>Migori</td>\n",
       "      <td>Nairobi</td>\n",
       "      <td>Bus</td>\n",
       "      <td>49</td>\n",
       "      <td>Sunday</td>\n",
       "      <td>False</td>\n",
       "    </tr>\n",
       "    <tr>\n",
       "      <th>2017-11-26 07:05:00</th>\n",
       "      <td>5710</td>\n",
       "      <td>8B</td>\n",
       "      <td>Mpesa</td>\n",
       "      <td>EQX8Q5G19O</td>\n",
       "      <td>Keroka</td>\n",
       "      <td>Nairobi</td>\n",
       "      <td>Bus</td>\n",
       "      <td>49</td>\n",
       "      <td>Sunday</td>\n",
       "      <td>False</td>\n",
       "    </tr>\n",
       "    <tr>\n",
       "      <th>2017-11-27 07:10:00</th>\n",
       "      <td>5777</td>\n",
       "      <td>19A</td>\n",
       "      <td>Mpesa</td>\n",
       "      <td>SGP18CL0ME</td>\n",
       "      <td>Homa Bay</td>\n",
       "      <td>Nairobi</td>\n",
       "      <td>Bus</td>\n",
       "      <td>49</td>\n",
       "      <td>Monday</td>\n",
       "      <td>False</td>\n",
       "    </tr>\n",
       "    <tr>\n",
       "      <th>2017-11-27 07:12:00</th>\n",
       "      <td>5778</td>\n",
       "      <td>11A</td>\n",
       "      <td>Mpesa</td>\n",
       "      <td>BM97HFRGL9</td>\n",
       "      <td>Migori</td>\n",
       "      <td>Nairobi</td>\n",
       "      <td>Bus</td>\n",
       "      <td>49</td>\n",
       "      <td>Monday</td>\n",
       "      <td>False</td>\n",
       "    </tr>\n",
       "  </tbody>\n",
       "</table>\n",
       "</div>"
      ],
      "text/plain": [
       "                     ride_id seat_number payment_method payment_receipt  \\\n",
       "travel_date_time                                                          \n",
       "2017-10-17 07:15:00     1442         15A          Mpesa      UZUEHCBUSO   \n",
       "2017-11-19 07:12:00     5437         14A          Mpesa      TIHLBUSGTE   \n",
       "2017-11-26 07:05:00     5710          8B          Mpesa      EQX8Q5G19O   \n",
       "2017-11-27 07:10:00     5777         19A          Mpesa      SGP18CL0ME   \n",
       "2017-11-27 07:12:00     5778         11A          Mpesa      BM97HFRGL9   \n",
       "\n",
       "                    travel_from travel_to car_type  max_capacity day_of_week  \\\n",
       "travel_date_time                                                               \n",
       "2017-10-17 07:15:00      Migori   Nairobi      Bus            49     Tuesday   \n",
       "2017-11-19 07:12:00      Migori   Nairobi      Bus            49      Sunday   \n",
       "2017-11-26 07:05:00      Keroka   Nairobi      Bus            49      Sunday   \n",
       "2017-11-27 07:10:00    Homa Bay   Nairobi      Bus            49      Monday   \n",
       "2017-11-27 07:12:00      Migori   Nairobi      Bus            49      Monday   \n",
       "\n",
       "                     has_MK  \n",
       "travel_date_time             \n",
       "2017-10-17 07:15:00   False  \n",
       "2017-11-19 07:12:00   False  \n",
       "2017-11-26 07:05:00   False  \n",
       "2017-11-27 07:10:00   False  \n",
       "2017-11-27 07:12:00   False  "
      ]
     },
     "execution_count": 32,
     "metadata": {},
     "output_type": "execute_result"
    }
   ],
   "source": [
    "parsed_data.head()"
   ]
  },
  {
   "cell_type": "code",
   "execution_count": 33,
   "metadata": {},
   "outputs": [],
   "source": [
    "data_with_MK_in_pay_reference = parsed_data[parsed_data['has_MK'] != False]"
   ]
  },
  {
   "cell_type": "code",
   "execution_count": 34,
   "metadata": {},
   "outputs": [
    {
     "data": {
      "text/html": [
       "<div>\n",
       "<style scoped>\n",
       "    .dataframe tbody tr th:only-of-type {\n",
       "        vertical-align: middle;\n",
       "    }\n",
       "\n",
       "    .dataframe tbody tr th {\n",
       "        vertical-align: top;\n",
       "    }\n",
       "\n",
       "    .dataframe thead th {\n",
       "        text-align: right;\n",
       "    }\n",
       "</style>\n",
       "<table border=\"1\" class=\"dataframe\">\n",
       "  <thead>\n",
       "    <tr style=\"text-align: right;\">\n",
       "      <th></th>\n",
       "      <th>ride_id</th>\n",
       "      <th>seat_number</th>\n",
       "      <th>payment_method</th>\n",
       "      <th>payment_receipt</th>\n",
       "      <th>travel_from</th>\n",
       "      <th>travel_to</th>\n",
       "      <th>car_type</th>\n",
       "      <th>max_capacity</th>\n",
       "      <th>day_of_week</th>\n",
       "      <th>has_MK</th>\n",
       "    </tr>\n",
       "    <tr>\n",
       "      <th>travel_date_time</th>\n",
       "      <th></th>\n",
       "      <th></th>\n",
       "      <th></th>\n",
       "      <th></th>\n",
       "      <th></th>\n",
       "      <th></th>\n",
       "      <th></th>\n",
       "      <th></th>\n",
       "      <th></th>\n",
       "      <th></th>\n",
       "    </tr>\n",
       "  </thead>\n",
       "  <tbody>\n",
       "    <tr>\n",
       "      <th>2018-04-19 05:20:00</th>\n",
       "      <td>5801</td>\n",
       "      <td>1X</td>\n",
       "      <td>Mpesa</td>\n",
       "      <td>TBJMRMKQLJ</td>\n",
       "      <td>Kisii</td>\n",
       "      <td>Nairobi</td>\n",
       "      <td>shuttle</td>\n",
       "      <td>11</td>\n",
       "      <td>Thursday</td>\n",
       "      <td>True</td>\n",
       "    </tr>\n",
       "    <tr>\n",
       "      <th>2018-04-17 06:30:00</th>\n",
       "      <td>5838</td>\n",
       "      <td>9</td>\n",
       "      <td>Mpesa</td>\n",
       "      <td>LYMKG9DII7</td>\n",
       "      <td>Kisii</td>\n",
       "      <td>Nairobi</td>\n",
       "      <td>shuttle</td>\n",
       "      <td>11</td>\n",
       "      <td>Tuesday</td>\n",
       "      <td>True</td>\n",
       "    </tr>\n",
       "    <tr>\n",
       "      <th>2018-04-15 19:04:00</th>\n",
       "      <td>5861</td>\n",
       "      <td>3A</td>\n",
       "      <td>Mpesa</td>\n",
       "      <td>7BMTKUMKJZ</td>\n",
       "      <td>Kisii</td>\n",
       "      <td>Nairobi</td>\n",
       "      <td>Bus</td>\n",
       "      <td>49</td>\n",
       "      <td>Sunday</td>\n",
       "      <td>True</td>\n",
       "    </tr>\n",
       "    <tr>\n",
       "      <th>2018-04-14 05:20:00</th>\n",
       "      <td>5868</td>\n",
       "      <td>1X</td>\n",
       "      <td>Mpesa</td>\n",
       "      <td>OMKHFVAGHD</td>\n",
       "      <td>Kisii</td>\n",
       "      <td>Nairobi</td>\n",
       "      <td>shuttle</td>\n",
       "      <td>11</td>\n",
       "      <td>Saturday</td>\n",
       "      <td>True</td>\n",
       "    </tr>\n",
       "    <tr>\n",
       "      <th>2018-05-04 05:10:00</th>\n",
       "      <td>6015</td>\n",
       "      <td>1</td>\n",
       "      <td>Mpesa</td>\n",
       "      <td>VUA7IXPMKP</td>\n",
       "      <td>Kisii</td>\n",
       "      <td>Nairobi</td>\n",
       "      <td>shuttle</td>\n",
       "      <td>11</td>\n",
       "      <td>Friday</td>\n",
       "      <td>True</td>\n",
       "    </tr>\n",
       "  </tbody>\n",
       "</table>\n",
       "</div>"
      ],
      "text/plain": [
       "                     ride_id seat_number payment_method payment_receipt  \\\n",
       "travel_date_time                                                          \n",
       "2018-04-19 05:20:00     5801          1X          Mpesa      TBJMRMKQLJ   \n",
       "2018-04-17 06:30:00     5838           9          Mpesa      LYMKG9DII7   \n",
       "2018-04-15 19:04:00     5861          3A          Mpesa      7BMTKUMKJZ   \n",
       "2018-04-14 05:20:00     5868          1X          Mpesa      OMKHFVAGHD   \n",
       "2018-05-04 05:10:00     6015           1          Mpesa      VUA7IXPMKP   \n",
       "\n",
       "                    travel_from travel_to car_type  max_capacity day_of_week  \\\n",
       "travel_date_time                                                               \n",
       "2018-04-19 05:20:00       Kisii   Nairobi  shuttle            11    Thursday   \n",
       "2018-04-17 06:30:00       Kisii   Nairobi  shuttle            11     Tuesday   \n",
       "2018-04-15 19:04:00       Kisii   Nairobi      Bus            49      Sunday   \n",
       "2018-04-14 05:20:00       Kisii   Nairobi  shuttle            11    Saturday   \n",
       "2018-05-04 05:10:00       Kisii   Nairobi  shuttle            11      Friday   \n",
       "\n",
       "                     has_MK  \n",
       "travel_date_time             \n",
       "2018-04-19 05:20:00    True  \n",
       "2018-04-17 06:30:00    True  \n",
       "2018-04-15 19:04:00    True  \n",
       "2018-04-14 05:20:00    True  \n",
       "2018-05-04 05:10:00    True  "
      ]
     },
     "execution_count": 34,
     "metadata": {},
     "output_type": "execute_result"
    }
   ],
   "source": [
    "data_with_MK_in_pay_reference.head()"
   ]
  },
  {
   "cell_type": "markdown",
   "metadata": {},
   "source": [
    "#### Define a method to find the next character after 'MK'\n",
    "- This will help us find the next characters\n",
    "- Since alphabets are from A-Z we can find the one with highest occurrences"
   ]
  },
  {
   "cell_type": "code",
   "execution_count": 48,
   "metadata": {},
   "outputs": [],
   "source": [
    "def get_next_char(val):\n",
    "    val_len = len(val)\n",
    "    if val.endswith('MK'):\n",
    "        return 0\n",
    "    start = val.find('MK')\n",
    "    end = start + 2\n",
    "    return val[end]"
   ]
  },
  {
   "cell_type": "code",
   "execution_count": 49,
   "metadata": {},
   "outputs": [
    {
     "name": "stderr",
     "output_type": "stream",
     "text": [
      "/home/moswil/anaconda3/envs/tf_env/lib/python3.7/site-packages/ipykernel_launcher.py:1: SettingWithCopyWarning: \n",
      "A value is trying to be set on a copy of a slice from a DataFrame.\n",
      "Try using .loc[row_indexer,col_indexer] = value instead\n",
      "\n",
      "See the caveats in the documentation: http://pandas.pydata.org/pandas-docs/stable/indexing.html#indexing-view-versus-copy\n",
      "  \"\"\"Entry point for launching an IPython kernel.\n"
     ]
    }
   ],
   "source": [
    "data_with_MK_in_pay_reference['next_char'] = data_with_MK_in_pay_reference['payment_receipt'].apply(get_next_char)"
   ]
  },
  {
   "cell_type": "code",
   "execution_count": 50,
   "metadata": {},
   "outputs": [
    {
     "data": {
      "text/html": [
       "<div>\n",
       "<style scoped>\n",
       "    .dataframe tbody tr th:only-of-type {\n",
       "        vertical-align: middle;\n",
       "    }\n",
       "\n",
       "    .dataframe tbody tr th {\n",
       "        vertical-align: top;\n",
       "    }\n",
       "\n",
       "    .dataframe thead th {\n",
       "        text-align: right;\n",
       "    }\n",
       "</style>\n",
       "<table border=\"1\" class=\"dataframe\">\n",
       "  <thead>\n",
       "    <tr style=\"text-align: right;\">\n",
       "      <th></th>\n",
       "      <th>ride_id</th>\n",
       "      <th>seat_number</th>\n",
       "      <th>payment_method</th>\n",
       "      <th>payment_receipt</th>\n",
       "      <th>travel_from</th>\n",
       "      <th>travel_to</th>\n",
       "      <th>car_type</th>\n",
       "      <th>max_capacity</th>\n",
       "      <th>day_of_week</th>\n",
       "      <th>has_MK</th>\n",
       "      <th>next_char</th>\n",
       "    </tr>\n",
       "    <tr>\n",
       "      <th>travel_date_time</th>\n",
       "      <th></th>\n",
       "      <th></th>\n",
       "      <th></th>\n",
       "      <th></th>\n",
       "      <th></th>\n",
       "      <th></th>\n",
       "      <th></th>\n",
       "      <th></th>\n",
       "      <th></th>\n",
       "      <th></th>\n",
       "      <th></th>\n",
       "    </tr>\n",
       "  </thead>\n",
       "  <tbody>\n",
       "    <tr>\n",
       "      <th>2018-04-19 05:20:00</th>\n",
       "      <td>5801</td>\n",
       "      <td>1X</td>\n",
       "      <td>Mpesa</td>\n",
       "      <td>TBJMRMKQLJ</td>\n",
       "      <td>Kisii</td>\n",
       "      <td>Nairobi</td>\n",
       "      <td>shuttle</td>\n",
       "      <td>11</td>\n",
       "      <td>Thursday</td>\n",
       "      <td>True</td>\n",
       "      <td>Q</td>\n",
       "    </tr>\n",
       "    <tr>\n",
       "      <th>2018-04-17 06:30:00</th>\n",
       "      <td>5838</td>\n",
       "      <td>9</td>\n",
       "      <td>Mpesa</td>\n",
       "      <td>LYMKG9DII7</td>\n",
       "      <td>Kisii</td>\n",
       "      <td>Nairobi</td>\n",
       "      <td>shuttle</td>\n",
       "      <td>11</td>\n",
       "      <td>Tuesday</td>\n",
       "      <td>True</td>\n",
       "      <td>G</td>\n",
       "    </tr>\n",
       "    <tr>\n",
       "      <th>2018-04-15 19:04:00</th>\n",
       "      <td>5861</td>\n",
       "      <td>3A</td>\n",
       "      <td>Mpesa</td>\n",
       "      <td>7BMTKUMKJZ</td>\n",
       "      <td>Kisii</td>\n",
       "      <td>Nairobi</td>\n",
       "      <td>Bus</td>\n",
       "      <td>49</td>\n",
       "      <td>Sunday</td>\n",
       "      <td>True</td>\n",
       "      <td>J</td>\n",
       "    </tr>\n",
       "    <tr>\n",
       "      <th>2018-04-14 05:20:00</th>\n",
       "      <td>5868</td>\n",
       "      <td>1X</td>\n",
       "      <td>Mpesa</td>\n",
       "      <td>OMKHFVAGHD</td>\n",
       "      <td>Kisii</td>\n",
       "      <td>Nairobi</td>\n",
       "      <td>shuttle</td>\n",
       "      <td>11</td>\n",
       "      <td>Saturday</td>\n",
       "      <td>True</td>\n",
       "      <td>H</td>\n",
       "    </tr>\n",
       "    <tr>\n",
       "      <th>2018-05-04 05:10:00</th>\n",
       "      <td>6015</td>\n",
       "      <td>1</td>\n",
       "      <td>Mpesa</td>\n",
       "      <td>VUA7IXPMKP</td>\n",
       "      <td>Kisii</td>\n",
       "      <td>Nairobi</td>\n",
       "      <td>shuttle</td>\n",
       "      <td>11</td>\n",
       "      <td>Friday</td>\n",
       "      <td>True</td>\n",
       "      <td>P</td>\n",
       "    </tr>\n",
       "  </tbody>\n",
       "</table>\n",
       "</div>"
      ],
      "text/plain": [
       "                     ride_id seat_number payment_method payment_receipt  \\\n",
       "travel_date_time                                                          \n",
       "2018-04-19 05:20:00     5801          1X          Mpesa      TBJMRMKQLJ   \n",
       "2018-04-17 06:30:00     5838           9          Mpesa      LYMKG9DII7   \n",
       "2018-04-15 19:04:00     5861          3A          Mpesa      7BMTKUMKJZ   \n",
       "2018-04-14 05:20:00     5868          1X          Mpesa      OMKHFVAGHD   \n",
       "2018-05-04 05:10:00     6015           1          Mpesa      VUA7IXPMKP   \n",
       "\n",
       "                    travel_from travel_to car_type  max_capacity day_of_week  \\\n",
       "travel_date_time                                                               \n",
       "2018-04-19 05:20:00       Kisii   Nairobi  shuttle            11    Thursday   \n",
       "2018-04-17 06:30:00       Kisii   Nairobi  shuttle            11     Tuesday   \n",
       "2018-04-15 19:04:00       Kisii   Nairobi      Bus            49      Sunday   \n",
       "2018-04-14 05:20:00       Kisii   Nairobi  shuttle            11    Saturday   \n",
       "2018-05-04 05:10:00       Kisii   Nairobi  shuttle            11      Friday   \n",
       "\n",
       "                     has_MK next_char  \n",
       "travel_date_time                       \n",
       "2018-04-19 05:20:00    True         Q  \n",
       "2018-04-17 06:30:00    True         G  \n",
       "2018-04-15 19:04:00    True         J  \n",
       "2018-04-14 05:20:00    True         H  \n",
       "2018-05-04 05:10:00    True         P  "
      ]
     },
     "execution_count": 50,
     "metadata": {},
     "output_type": "execute_result"
    }
   ],
   "source": [
    "data_with_MK_in_pay_reference.head()"
   ]
  },
  {
   "cell_type": "code",
   "execution_count": 51,
   "metadata": {},
   "outputs": [
    {
     "data": {
      "text/plain": [
       "0    53\n",
       "Y    20\n",
       "L    20\n",
       "R    19\n",
       "H    19\n",
       "Name: next_char, dtype: int64"
      ]
     },
     "execution_count": 51,
     "metadata": {},
     "output_type": "execute_result"
    }
   ],
   "source": [
    "data_with_MK_in_pay_reference['next_char'].value_counts().head()"
   ]
  },
  {
   "cell_type": "code",
   "execution_count": 52,
   "metadata": {},
   "outputs": [
    {
     "data": {
      "text/plain": [
       "499"
      ]
     },
     "execution_count": 52,
     "metadata": {},
     "output_type": "execute_result"
    }
   ],
   "source": [
    "data_with_MK_in_pay_reference['next_char'].value_counts().sum()"
   ]
  },
  {
   "cell_type": "code",
   "execution_count": 53,
   "metadata": {
    "scrolled": true
   },
   "outputs": [
    {
     "data": {
      "text/plain": [
       "(499, 11)"
      ]
     },
     "execution_count": 53,
     "metadata": {},
     "output_type": "execute_result"
    }
   ],
   "source": [
    "data_with_MK_in_pay_reference.shape"
   ]
  },
  {
   "cell_type": "markdown",
   "metadata": {},
   "source": [
    "From the above observations, letters **Y or L** has the highest number of occurrences of *20*, hence it's the next most probable characters"
   ]
  },
  {
   "cell_type": "code",
   "execution_count": null,
   "metadata": {},
   "outputs": [],
   "source": []
  },
  {
   "cell_type": "markdown",
   "metadata": {},
   "source": [
    "##### When considering opening a new terminus in Kisii, should the terminus have mobile money capabilities? Why?\n",
    "> We consider payment mode, either MPesa or Cash\n",
    "\n",
    "> Then the one with highest number should be used"
   ]
  },
  {
   "cell_type": "code",
   "execution_count": 41,
   "metadata": {},
   "outputs": [],
   "source": [
    "kisii_data = parsed_data[parsed_data['travel_from'] == 'Kisii']"
   ]
  },
  {
   "cell_type": "code",
   "execution_count": 42,
   "metadata": {},
   "outputs": [
    {
     "data": {
      "text/html": [
       "<div>\n",
       "<style scoped>\n",
       "    .dataframe tbody tr th:only-of-type {\n",
       "        vertical-align: middle;\n",
       "    }\n",
       "\n",
       "    .dataframe tbody tr th {\n",
       "        vertical-align: top;\n",
       "    }\n",
       "\n",
       "    .dataframe thead th {\n",
       "        text-align: right;\n",
       "    }\n",
       "</style>\n",
       "<table border=\"1\" class=\"dataframe\">\n",
       "  <thead>\n",
       "    <tr style=\"text-align: right;\">\n",
       "      <th></th>\n",
       "      <th>ride_id</th>\n",
       "      <th>seat_number</th>\n",
       "      <th>payment_method</th>\n",
       "      <th>payment_receipt</th>\n",
       "      <th>travel_from</th>\n",
       "      <th>travel_to</th>\n",
       "      <th>car_type</th>\n",
       "      <th>max_capacity</th>\n",
       "      <th>day_of_week</th>\n",
       "      <th>has_MK</th>\n",
       "    </tr>\n",
       "    <tr>\n",
       "      <th>travel_date_time</th>\n",
       "      <th></th>\n",
       "      <th></th>\n",
       "      <th></th>\n",
       "      <th></th>\n",
       "      <th></th>\n",
       "      <th></th>\n",
       "      <th></th>\n",
       "      <th></th>\n",
       "      <th></th>\n",
       "      <th></th>\n",
       "    </tr>\n",
       "  </thead>\n",
       "  <tbody>\n",
       "    <tr>\n",
       "      <th>2018-04-20 05:10:00</th>\n",
       "      <td>5784</td>\n",
       "      <td>1X</td>\n",
       "      <td>Mpesa</td>\n",
       "      <td>3OPU23FHRB</td>\n",
       "      <td>Kisii</td>\n",
       "      <td>Nairobi</td>\n",
       "      <td>shuttle</td>\n",
       "      <td>11</td>\n",
       "      <td>Friday</td>\n",
       "      <td>False</td>\n",
       "    </tr>\n",
       "    <tr>\n",
       "      <th>2018-04-20 09:50:00</th>\n",
       "      <td>5789</td>\n",
       "      <td>1X</td>\n",
       "      <td>Mpesa</td>\n",
       "      <td>BPRX4UMFFN</td>\n",
       "      <td>Kisii</td>\n",
       "      <td>Nairobi</td>\n",
       "      <td>shuttle</td>\n",
       "      <td>11</td>\n",
       "      <td>Friday</td>\n",
       "      <td>False</td>\n",
       "    </tr>\n",
       "    <tr>\n",
       "      <th>2018-04-20 07:06:00</th>\n",
       "      <td>5790</td>\n",
       "      <td>1B</td>\n",
       "      <td>Mpesa</td>\n",
       "      <td>DC8ABRSXXK</td>\n",
       "      <td>Kisii</td>\n",
       "      <td>Nairobi</td>\n",
       "      <td>Bus</td>\n",
       "      <td>49</td>\n",
       "      <td>Friday</td>\n",
       "      <td>False</td>\n",
       "    </tr>\n",
       "    <tr>\n",
       "      <th>2018-04-20 06:00:00</th>\n",
       "      <td>5791</td>\n",
       "      <td>1</td>\n",
       "      <td>Mpesa</td>\n",
       "      <td>HGQURN0SZS</td>\n",
       "      <td>Kisii</td>\n",
       "      <td>Nairobi</td>\n",
       "      <td>shuttle</td>\n",
       "      <td>11</td>\n",
       "      <td>Friday</td>\n",
       "      <td>False</td>\n",
       "    </tr>\n",
       "    <tr>\n",
       "      <th>2018-04-20 05:50:00</th>\n",
       "      <td>5792</td>\n",
       "      <td>1</td>\n",
       "      <td>Mpesa</td>\n",
       "      <td>8D9V8HK2FC</td>\n",
       "      <td>Kisii</td>\n",
       "      <td>Nairobi</td>\n",
       "      <td>shuttle</td>\n",
       "      <td>11</td>\n",
       "      <td>Friday</td>\n",
       "      <td>False</td>\n",
       "    </tr>\n",
       "  </tbody>\n",
       "</table>\n",
       "</div>"
      ],
      "text/plain": [
       "                     ride_id seat_number payment_method payment_receipt  \\\n",
       "travel_date_time                                                          \n",
       "2018-04-20 05:10:00     5784          1X          Mpesa      3OPU23FHRB   \n",
       "2018-04-20 09:50:00     5789          1X          Mpesa      BPRX4UMFFN   \n",
       "2018-04-20 07:06:00     5790          1B          Mpesa      DC8ABRSXXK   \n",
       "2018-04-20 06:00:00     5791           1          Mpesa      HGQURN0SZS   \n",
       "2018-04-20 05:50:00     5792           1          Mpesa      8D9V8HK2FC   \n",
       "\n",
       "                    travel_from travel_to car_type  max_capacity day_of_week  \\\n",
       "travel_date_time                                                               \n",
       "2018-04-20 05:10:00       Kisii   Nairobi  shuttle            11      Friday   \n",
       "2018-04-20 09:50:00       Kisii   Nairobi  shuttle            11      Friday   \n",
       "2018-04-20 07:06:00       Kisii   Nairobi      Bus            49      Friday   \n",
       "2018-04-20 06:00:00       Kisii   Nairobi  shuttle            11      Friday   \n",
       "2018-04-20 05:50:00       Kisii   Nairobi  shuttle            11      Friday   \n",
       "\n",
       "                     has_MK  \n",
       "travel_date_time             \n",
       "2018-04-20 05:10:00   False  \n",
       "2018-04-20 09:50:00   False  \n",
       "2018-04-20 07:06:00   False  \n",
       "2018-04-20 06:00:00   False  \n",
       "2018-04-20 05:50:00   False  "
      ]
     },
     "execution_count": 42,
     "metadata": {},
     "output_type": "execute_result"
    }
   ],
   "source": [
    "kisii_data.head()"
   ]
  },
  {
   "cell_type": "code",
   "execution_count": 43,
   "metadata": {},
   "outputs": [
    {
     "data": {
      "text/plain": [
       "Mpesa    22559\n",
       "Cash        48\n",
       "Name: payment_method, dtype: int64"
      ]
     },
     "execution_count": 43,
     "metadata": {},
     "output_type": "execute_result"
    }
   ],
   "source": [
    "kisii_data['payment_method'].value_counts()"
   ]
  },
  {
   "cell_type": "code",
   "execution_count": 44,
   "metadata": {},
   "outputs": [
    {
     "data": {
      "text/plain": [
       "<matplotlib.axes._subplots.AxesSubplot at 0x7fe881d1a240>"
      ]
     },
     "execution_count": 44,
     "metadata": {},
     "output_type": "execute_result"
    },
    {
     "data": {
      "image/png": "[encoded data removed]",
      "text/plain": [
       "<Figure size 432x288 with 1 Axes>"
      ]
     },
     "metadata": {
      "needs_background": "light"
     },
     "output_type": "display_data"
    }
   ],
   "source": [
    "kisii_data['payment_method'].value_counts().plot()"
   ]
  },
  {
   "cell_type": "code",
   "execution_count": 45,
   "metadata": {},
   "outputs": [],
   "source": [
    "mpesa = kisii_data['payment_method'].value_counts().values[0]\n",
    "cash = kisii_data['payment_method'].value_counts().values[1]"
   ]
  },
  {
   "cell_type": "code",
   "execution_count": 46,
   "metadata": {},
   "outputs": [
    {
     "name": "stdout",
     "output_type": "stream",
     "text": [
      "Mpesa Users are: 22559\n",
      "Cash Users are: 48\n"
     ]
    }
   ],
   "source": [
    "print(f'Mpesa Users are: {mpesa}')\n",
    "print(f'Cash Users are: {cash}')"
   ]
  },
  {
   "cell_type": "markdown",
   "metadata": {},
   "source": [
    "##### Opening a new terminus in Kisii.\n",
    "- The new terminus should have mobile money capabilities, this is due to the high number of people who use mobile to do transactions\n",
    "- From the above analysis and graph, it can therefore, be concluded that, for the business to thrive in Kisii, the new terminus must have mobile capabilities"
   ]
  },
  {
   "cell_type": "code",
   "execution_count": null,
   "metadata": {},
   "outputs": [],
   "source": []
  },
  {
   "cell_type": "code",
   "execution_count": null,
   "metadata": {},
   "outputs": [],
   "source": []
  },
  {
   "cell_type": "code",
   "execution_count": null,
   "metadata": {},
   "outputs": [],
   "source": []
  }
 ],
 "metadata": {
  "kernelspec": {
   "display_name": "Python 3",
   "language": "python",
   "name": "python3"
  },
  "language_info": {
   "codemirror_mode": {
    "name": "ipython",
    "version": 3
   },
   "file_extension": ".py",
   "mimetype": "text/x-python",
   "name": "python",
   "nbconvert_exporter": "python",
   "pygments_lexer": "ipython3",
   "version": "3.7.3"
  }
 },
 "nbformat": 4,
 "nbformat_minor": 2
}
