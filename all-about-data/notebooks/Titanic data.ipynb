{
 "cells": [
  {
   "cell_type": "code",
   "execution_count": null,
   "metadata": {},
   "outputs": [],
   "source": [
    "!pip install python-dotenv"
   ]
  },
  {
   "cell_type": "code",
   "execution_count": null,
   "metadata": {},
   "outputs": [],
   "source": [
    "from dotenv import load_dotenv,find_dotenv"
   ]
  },
  {
   "cell_type": "code",
   "execution_count": null,
   "metadata": {},
   "outputs": [],
   "source": [
    "dotenv_path=find_dotenv()\n",
    "load_dotenv(dotenv_path)"
   ]
  },
  {
   "cell_type": "code",
   "execution_count": null,
   "metadata": {},
   "outputs": [],
   "source": [
    "import os\n",
    "KAGGLE_USERNAME=os.environ.get(\"KAGGLE_USERNAME\")\n",
    "KAGGLE_PASSWORD=os.environ.get(\"KAGGLE_PASSWORD\")\n",
    "print(KAGGLE_USERNAME)\n",
    "print(KAGGLE_PASSWORD)\n"
   ]
  },
  {
   "cell_type": "code",
   "execution_count": null,
   "metadata": {},
   "outputs": [],
   "source": [
    "import requests\n",
    "from requests import session\n",
    "import os\n",
    "from dotenv import load_dotenv, find_dotenv"
   ]
  },
  {
   "cell_type": "code",
   "execution_count": null,
   "metadata": {},
   "outputs": [],
   "source": [
    "payload= {\n",
    "    'action':'login',\n",
    "    'username':os.environ.get('KAGGLE_USERNAME'),\n",
    "    'password':os.environ.get('KAGGLE_PASSWORD')\n",
    "}\n",
    "\n",
    "# url='https://www.kaggle.com/c/titanic/download/train.csv'\n",
    "# url = 'https://forge.scilab.org/index.php/p/rdataset/source/file/master/csv/datasets/Titanic.csv'\n",
    "url = 'https://osf.io/aupb4/download'\n",
    "\n",
    "with session() as c:\n",
    "    #c.post('https://www.kaggle.com/account/login',data=payload)\n",
    "    response=c.get(url)\n",
    "    print(response.text)\n",
    "    \n"
   ]
  },
  {
   "cell_type": "code",
   "execution_count": null,
   "metadata": {},
   "outputs": [],
   "source": [
    "from requests import session\n",
    "payload= {\n",
    "    'action':'login',\n",
    "    'username':os.environ.get('KAGGLE_USERNAME'),\n",
    "    'password':os.environ.get('KAGGLE_PASSWORD')\n",
    "}\n",
    "\n",
    "def extract_data(url,file_path):\n",
    "    with session() as c:\n",
    "#         c.post('https://www.kaggle.com/account/login',data=payload)\n",
    "        with open(file_path,'w') as handle:\n",
    "            response=c.get(url,stream=True)\n",
    "            \n",
    "            for block in response.iter_content(1024):\n",
    "                handle.write(block.decode())\n",
    "\n"
   ]
  },
  {
   "cell_type": "code",
   "execution_count": null,
   "metadata": {},
   "outputs": [],
   "source": [
    "# train_url= 'https://www.kaggle.com/c/titanic/download/train.csv'\n",
    "# test_url= 'https://www.kaggle.com/c/titanic/download/test.csv'\n",
    "train_url = 'https://osf.io/aupb4/download'\n",
    "# test_url =  'https://osf.io/aupb4/download'\n",
    "\n",
    "raw_data_path=os.path.join(os.path.pardir,'data','raw')\n",
    "train_data_path=os.path.join(raw_data_path,'train.csv')\n",
    "# test_data_path=os.path.join(raw_data_path,'test.csv')\n",
    "\n",
    "extract_data(train_url,train_data_path)\n",
    "# extract_data(test_url,test_data_path)"
   ]
  },
  {
   "cell_type": "code",
   "execution_count": null,
   "metadata": {},
   "outputs": [],
   "source": [
    "!ls -l ../data/raw"
   ]
  },
  {
   "cell_type": "code",
   "execution_count": null,
   "metadata": {},
   "outputs": [],
   "source": []
  }
 ],
 "metadata": {
  "kernelspec": {
   "display_name": "Python 3",
   "language": "python",
   "name": "python3"
  },
  "language_info": {
   "codemirror_mode": {
    "name": "ipython",
    "version": 3
   },
   "file_extension": ".py",
   "mimetype": "text/x-python",
   "name": "python",
   "nbconvert_exporter": "python",
   "pygments_lexer": "ipython3",
   "version": "3.7.3"
  }
 },
 "nbformat": 4,
 "nbformat_minor": 2
}
