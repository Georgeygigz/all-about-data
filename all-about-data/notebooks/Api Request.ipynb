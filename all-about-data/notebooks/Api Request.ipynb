{
 "cells": [
  {
   "cell_type": "code",
   "execution_count": 1,
   "metadata": {},
   "outputs": [],
   "source": [
    "import requests"
   ]
  },
  {
   "cell_type": "code",
   "execution_count": 2,
   "metadata": {},
   "outputs": [],
   "source": [
    "url='http://dummy.restapiexample.com/api/v1/employees'"
   ]
  },
  {
   "cell_type": "code",
   "execution_count": null,
   "metadata": {},
   "outputs": [],
   "source": [
    "result=requests.get(url)\n"
   ]
  },
  {
   "cell_type": "code",
   "execution_count": 11,
   "metadata": {},
   "outputs": [
    {
     "data": {
      "text/plain": [
       "200"
      ]
     },
     "execution_count": 11,
     "metadata": {},
     "output_type": "execute_result"
    }
   ],
   "source": [
    "result.status_code"
   ]
  },
  {
   "cell_type": "code",
   "execution_count": 12,
   "metadata": {},
   "outputs": [
    {
     "data": {
      "text/plain": [
       "'[{\"id\":\"50318\",\"employee_name\":\"{{name}}\",\"employee_salary\":\"969\",\"employee_age\":\"0\",\"profile_image\":\"\"},{\"id\":\"50322\",\"employee_name\":\"Diogo\",\"employee_salary\":\"200\",\"employee_age\":\"34\",\"profile_image\":\"\"},{\"id\":\"50326\",\"employee_name\":\"Caique\",\"employee_salary\":\"200\",\"employee_age\":\"34\",\"profile_image\":\"\"},{\"id\":\"50327\",\"employee_name\":\"test\",\"employee_salary\":\"123\",\"employee_age\":\"23\",\"profile_image\":\"\"},{\"id\":\"50329\",\"employee_name\":\"teasdst\",\"employee_salary\":\"123\",\"employee_age\":\"23\",\"profile_image\":\"\"},{\"id\":\"50331\",\"employee_name\":\"asda\",\"employee_salary\":\"123\",\"employee_age\":\"23\",\"profile_image\":\"\"},{\"id\":\"50333\",\"employee_name\":\"asdsd\",\"employee_salary\":\"123\",\"employee_age\":\"23\",\"profile_image\":\"\"},{\"id\":\"50351\",\"employee_name\":\"pavan\",\"employee_salary\":\"969\",\"employee_age\":\"56\",\"profile_image\":\"\"},{\"id\":\"50354\",\"employee_name\":\"test1\",\"employee_salary\":\"1231\",\"employee_age\":\"231\",\"profile_image\":\"\"},{\"id\":\"50356\",\"employee_name\":\"yourValue 6\",\"employee_salary\":\"0\",\"employee_age\":\"23\",\"profile_image\":\"\"},{\"id\":\"50361\",\"employee_name\":\"test10\",\"employee_salary\":\"123111\",\"employee_age\":\"2311\",\"profile_image\":\"\"},{\"id\":\"50362\",\"employee_name\":\"sampe\",\"employee_salary\":\"34\",\"employee_age\":\"34\",\"profile_image\":\"\"},{\"id\":\"50365\",\"employee_name\":\"nagarjuna1\",\"employee_salary\":\"855000\",\"employee_age\":\"31\",\"profile_image\":\"\"}]'"
      ]
     },
     "execution_count": 12,
     "metadata": {},
     "output_type": "execute_result"
    }
   ],
   "source": [
    "result.text"
   ]
  },
  {
   "cell_type": "code",
   "execution_count": 10,
   "metadata": {},
   "outputs": [
    {
     "data": {
      "text/plain": [
       "{'Server': 'nginx/1.14.1', 'Date': 'Sat, 11 May 2019 19:17:48 GMT', 'Content-Type': 'text/html; charset=UTF-8', 'Content-Length': '258', 'Connection': 'keep-alive', 'Expires': 'Thu, 19 Nov 1981 08:52:00 GMT', 'Cache-Control': 'no-store, no-cache, must-revalidate, post-check=0, pre-check=0', 'Pragma': 'no-cache', 'Access-Control-Allow-Origin': '*', 'Access-Control-Expose-Headers': 'Content-Type, X-Requested-With, X-authentication, X-client', 'Set-Cookie': 'PHPSESSID=2k8g7ss354mtl4qcfbtnlplal3; path=/', 'Vary': 'Accept-Encoding', 'Content-Encoding': 'gzip', 'Referrer-Policy': '', 'X-Server-Cache': 'true', 'X-Proxy-Cache': 'MISS'}"
      ]
     },
     "execution_count": 10,
     "metadata": {},
     "output_type": "execute_result"
    }
   ],
   "source": [
    "result.headers"
   ]
  },
  {
   "cell_type": "code",
   "execution_count": 15,
   "metadata": {},
   "outputs": [
    {
     "data": {
      "text/plain": [
       "{'id': '50318',\n",
       " 'employee_name': '{{name}}',\n",
       " 'employee_salary': '969',\n",
       " 'employee_age': '0',\n",
       " 'profile_image': ''}"
      ]
     },
     "execution_count": 15,
     "metadata": {},
     "output_type": "execute_result"
    }
   ],
   "source": [
    "result.json()"
   ]
  },
  {
   "cell_type": "code",
   "execution_count": null,
   "metadata": {},
   "outputs": [],
   "source": []
  }
 ],
 "metadata": {
  "kernelspec": {
   "display_name": "Python 3",
   "language": "python",
   "name": "python3"
  },
  "language_info": {
   "codemirror_mode": {
    "name": "ipython",
    "version": 3
   },
   "file_extension": ".py",
   "mimetype": "text/x-python",
   "name": "python",
   "nbconvert_exporter": "python",
   "pygments_lexer": "ipython3",
   "version": "3.7.3"
  }
 },
 "nbformat": 4,
 "nbformat_minor": 2
}
