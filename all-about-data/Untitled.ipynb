{
 "cells": [
  {
   "cell_type": "code",
   "execution_count": 3,
   "metadata": {},
   "outputs": [
    {
     "name": "stdout",
     "output_type": "stream",
     "text": [
      "fname required\n",
      "Mmmm😁\n",
      "lname required\n",
      "Mmmm😁\n",
      "Mmmm😁\n"
     ]
    }
   ],
   "source": [
    "mylist=['fname','lname','email']\n",
    "request =['email']\n",
    "for f in mylist:\n",
    "    if f not in request:\n",
    "        print(\"{} required\".format(f))\n",
    "    print('Mmmm😁')"
   ]
  },
  {
   "cell_type": "code",
   "execution_count": null,
   "metadata": {},
   "outputs": [],
   "source": []
  }
 ],
 "metadata": {
  "kernelspec": {
   "display_name": "Python 3",
   "language": "python",
   "name": "python3"
  },
  "language_info": {
   "codemirror_mode": {
    "name": "ipython",
    "version": 3
   },
   "file_extension": ".py",
   "mimetype": "text/x-python",
   "name": "python",
   "nbconvert_exporter": "python",
   "pygments_lexer": "ipython3",
   "version": "3.7.3"
  }
 },
 "nbformat": 4,
 "nbformat_minor": 2
}
